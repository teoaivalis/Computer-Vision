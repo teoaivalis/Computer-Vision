{
  "nbformat": 4,
  "nbformat_minor": 0,
  "metadata": {
    "colab": {
      "name": "CV_LAB_2.ipynb",
      "provenance": [],
      "collapsed_sections": [
        "_mC-QBit5_U2",
        "v4-1mhDTAspg",
        "dLgNMhIoKXpa",
        "yfobqHqTCz52"
      ]
    },
    "kernelspec": {
      "name": "python3",
      "display_name": "Python 3"
    },
    "language_info": {
      "name": "python"
    }
  },
  "cells": [
    {
      "cell_type": "markdown",
      "metadata": {
        "id": "xmXyhiDMZHc_"
      },
      "source": [
        "#Εργαστηριακό Project #2: Εκτίμηση Οπτικής Ροής (Optical Flow) και Εξαγωγή Χαρακτηριστικών σε Βίντεο για Αναγνώριση Δράσεων"
      ]
    },
    {
      "cell_type": "markdown",
      "metadata": {
        "id": "5uwhGh3vZklb"
      },
      "source": [
        "##Imports"
      ]
    },
    {
      "cell_type": "code",
      "metadata": {
        "id": "wNRIyNwPZg19"
      },
      "source": [
        "import cv2\n",
        "import numpy as np\n",
        "import matplotlib.pyplot as plt\n",
        "import math\n",
        "import scipy.io\n",
        "from scipy.stats import multivariate_normal\n",
        "from scipy.ndimage import map_coordinates, label\n",
        "import sys\n",
        "from matplotlib.patches import Circle\n",
        "import timeit\n",
        "import time\n",
        "import random\n",
        "from sklearn.cluster import KMeans\n",
        "from scipy.spatial import distance_matrix\n",
        "from sklearn.preprocessing import normalize\n",
        "from scipy.spatial.distance import cdist\n",
        "from numpy.linalg import norm\n",
        "#import cv21_lab2_2_utils as utils\n",
        "from scipy.ndimage import map_coordinates\n",
        "import matplotlib.patches as patches\n",
        "import matplotlib.animation as animation\n",
        "from matplotlib.animation import PillowWriter\n",
        "from os import listdir\n",
        "from os.path import isfile, join\n",
        "from sklearn.model_selection import train_test_split\n",
        "import matplotlib.pyplot as plt\n",
        "import matplotlib.patches as patches\n",
        "from PIL import Image \n",
        "\n",
        "%matplotlib inline"
      ],
      "execution_count": null,
      "outputs": []
    },
    {
      "cell_type": "markdown",
      "metadata": {
        "id": "oaw57fyzZKZR"
      },
      "source": [
        "##Μέρος 1: Παρακολούθηση Προσώπου και Χεριών με Χρήση της Μεθόδου Οπτικής Ροής των Lucas-Kanade"
      ]
    },
    {
      "cell_type": "markdown",
      "metadata": {
        "id": "vy5HnLrDZqx7"
      },
      "source": [
        "###1.1 Ανίχνευση Δέρματος Προσώπου και Χεριών"
      ]
    },
    {
      "cell_type": "code",
      "metadata": {
        "id": "healthy-vacation"
      },
      "source": [
        "mat_file = scipy.io.loadmat(\"skinSamplesRGB.mat\")\n",
        "#RGB to YCbCr \n",
        "skin_sam_RGB = mat_file['skinSamplesRGB'] # array that contains R, G, B arrays. Each one of the three arrays has 22 lines and 81 columns.\n",
        "#R,G,B = cv2.split(skin_sam_RGB)\n",
        "\n",
        "skin_sam_YCbCr = cv2.cvtColor(skin_sam_RGB, cv2.COLOR_RGB2YCrCb)\n",
        "#_, Cb1, Cr1 = cv2.split(skin_sam_YCbCr) #same outputs as below\n",
        "Cr2, Cb2 = skin_sam_YCbCr[:,:,2], skin_sam_YCbCr[:,:,1] \n",
        "samples = Cr2.shape[0]*Cr2.shape[1]\n",
        "mean = np.array([np.sum(Cb2)/samples, np.sum(Cr2)/samples])\n",
        "\n",
        "#c = np.array([Cb2, Cr2]).transpose()\n",
        "cov = np.array(np.cov(Cb2.reshape(1,-1)[0], Cr2.reshape(1,-1)[0]))\n"
      ],
      "execution_count": null,
      "outputs": []
    },
    {
      "cell_type": "code",
      "metadata": {
        "id": "yZhVZleg5nc0"
      },
      "source": [
        "def face_detect(I, mean, cov):\n",
        "        \n",
        "    Ι = cv2.cvtColor(I, cv2.COLOR_RGB2YCrCb)\n",
        "    \n",
        "    #_, Cb1, Cr1 = cv2.split(skin_sam_YCbCr) same outputs as below\n",
        "    Cr, Cb = Ι[:,:,2], Ι[:,:,1]\n",
        "    c = np.array([Cb, Cr]).transpose()\n",
        "    \n",
        "    P = multivariate_normal.pdf(c, list(mean), cov)\n",
        "    _,Pthres = cv2.threshold(P, 0.0005, 0.25, cv2.THRESH_BINARY)\n",
        "    Pthres = Pthres.transpose()\n",
        "    \n",
        "    #opening with small structural\n",
        "    kernel_opening = np.ones((3,3),np.uint8)\n",
        "    opening = cv2.morphologyEx(Pthres, cv2.MORPH_OPEN, kernel_opening)\n",
        "    \n",
        "    \n",
        "    #closing with big structural\n",
        "    kernel_closing = np.ones((18,18),np.uint8)\n",
        "    closing = cv2.morphologyEx(opening, cv2.MORPH_CLOSE, kernel_closing)\n",
        "    \n",
        "    labeled_array, num_features = label(closing)\n",
        "    \n",
        "    f, arr = plt.subplots(2,2, figsize=(9, 9))\n",
        "    arr[0,0].imshow(I)\n",
        "    arr[0,0].title.set_text('Initial_Image')\n",
        "    arr[0,1].imshow(Pthres)\n",
        "    arr[0,1].title.set_text('Thresholded_Image')\n",
        "    arr[1,0].imshow(opening)\n",
        "    arr[1,0].title.set_text('Opened_Image')\n",
        "    arr[1,1].imshow(closing)\n",
        "    arr[1,1].title.set_text('Closed_Image')\n",
        "    \n",
        "    bounding_boxes = []\n",
        "    for i in range(1, num_features+1):\n",
        "        x,y = np.where(labeled_array == i)\n",
        "        x = np.sort(x) \n",
        "        y = np.sort(y) \n",
        "        width = x[-1]-x[0]\n",
        "        height = y[-1] - y[0]\n",
        "        bounding_boxes.append([y[0], x[0],height,width])\n",
        "    \n",
        "    return bounding_boxes"
      ],
      "execution_count": null,
      "outputs": []
    },
    {
      "cell_type": "code",
      "metadata": {
        "id": "ri6hyLoY5qpp"
      },
      "source": [
        "img = cv2.cvtColor(cv2.imread(\"1.png\"), cv2.COLOR_BGR2RGB)\n",
        "collect_array = face_detect(img, mean, cov)\n",
        "#print(mean,cov)"
      ],
      "execution_count": null,
      "outputs": []
    },
    {
      "cell_type": "code",
      "metadata": {
        "id": "TgmMvfms57TA"
      },
      "source": [
        "image = Image.open('1.png')\n",
        "\n",
        "# Create figure and axes\n",
        "fig, ax = plt.subplots()\n",
        "\n",
        "# Display the image\n",
        "ax.imshow(image)\n",
        "\n",
        "for i in range(len(collect_array)):\n",
        "    # Create a Rectangle patch\n",
        "    rect = patches.Rectangle((collect_array[i][0], collect_array[i][1]), collect_array[i][2], collect_array[i][3], linewidth=1, edgecolor='r', facecolor='none')\n",
        "    # Add the patch to the Axes\n",
        "    ax.add_patch(rect)\n",
        "\n",
        "\n",
        "plt.title('Bounding_Boxes')\n",
        "plt.show(fig)"
      ],
      "execution_count": null,
      "outputs": []
    },
    {
      "cell_type": "markdown",
      "metadata": {
        "id": "_mC-QBit5_U2"
      },
      "source": [
        "###1.2 Παρακολούθηση Προσώπου και Χεριών"
      ]
    },
    {
      "cell_type": "code",
      "metadata": {
        "id": "KvCIy9mv6DBf"
      },
      "source": [
        "def Gauss(img,sigma):\n",
        "    n = int(2*np.ceil(3*sigma)+1)\n",
        "    gauss1D = cv2.getGaussianKernel(n, sigma) # Column vector\n",
        "    gauss2D = gauss1D @ gauss1D.T # Symmetric gaussian kernel\n",
        "    return cv2.filter2D(img, -1, gauss2D)\n",
        "\n",
        "def disk_strel(n):\n",
        "    '''\n",
        "        Return a structural element, which is a disk of radius n.\n",
        "    '''\n",
        "    r = int(np.round(n))\n",
        "    d = 2*r+1\n",
        "    x = np.arange(d) - r\n",
        "    y = np.arange(d) - r\n",
        "    x, y = np.meshgrid(x,y)\n",
        "    strel = x**2 + y**2 <= r**2\n",
        "    return strel.astype(np.uint8)\n",
        "\n",
        "def imageread(filename):\n",
        "  img = cv2.imread(filename)\n",
        "  img = cv2.cvtColor(img, cv2.COLOR_BGR2RGB)\n",
        "  # Normalize to [0,1]\n",
        "  img = img.astype(np.float)/255\n",
        "  # Show image\n",
        "  return img\n",
        "  \n",
        "img = imageread(\"1.png\")\n",
        "plt.title('FACE[138; 88; 73; 123]')\n",
        "plt.imshow(img[88:123+88,138:138+73])\n",
        "plt.show()\n",
        "\n",
        "plt.title('LEFT_HAND[47, 243, 71, 66]')\n",
        "plt.imshow(img[264:264+48,162:162+83])\n",
        "plt.show()\n",
        "\n",
        "plt.title('RIGHT_HAND[162, 264, 83, 48]')\n",
        "plt.imshow(img[243:243+66,47:47+71])\n",
        "plt.show()"
      ],
      "execution_count": null,
      "outputs": []
    },
    {
      "cell_type": "markdown",
      "metadata": {
        "id": "A-_eSuo8dOgD"
      },
      "source": [
        "####1.2.1 Υλοποίηση του Αλγόριθμου των Lucas-Kanade"
      ]
    },
    {
      "cell_type": "code",
      "metadata": {
        "id": "8Gnx-omRA7kg"
      },
      "source": [
        "def Lucas_Kanade(img1,img2,rho,epsilon,d_x0, d_y0): \n",
        "\n",
        "    (rows,cols) = img1.shape\n",
        "    [x_0,y_0] = np.meshgrid(np.arange(0,cols),np.arange(0,rows))\n",
        "\n",
        "    dx = d_x0\n",
        "    dy = d_y0\n",
        "\n",
        "    [Iy, Ix] = np.gradient(img1)\n",
        "\n",
        "    for i in range(10):\n",
        "        I1_di = map_coordinates(img1,[y_0+dy,x_0+dx],order=1, mode='constant')\n",
        "\n",
        "        E = img2 - I1_di#.reshape((rows,cols))\n",
        "\n",
        "        A1 = map_coordinates(Ix, [y_0+dy,x_0+dx],order=1, mode='constant')#.reshape((rows,cols))\n",
        "        A2 = map_coordinates(Iy, [y_0+dy,x_0+dx],order=1, mode='constant')#.reshape((rows,cols))\n",
        "        A1A2 = A1*A2\n",
        "        a = Gauss(A1*A1, rho) + epsilon\n",
        "        b = Gauss(A1A2, rho)\n",
        "        c = Gauss(A1A2, rho)\n",
        "        d = Gauss(A2*A2, rho) + epsilon\n",
        "        e = Gauss(A1*E, rho)\n",
        "        f = Gauss(A2*E, rho)     \n",
        "\n",
        "        det = (a*d - b*c)\n",
        "        u = [(d*e - b*f)/det , (-c*e + a*f)/det]\n",
        "        dy = dy + u[1]\n",
        "        dx = dx + u[0]\n",
        "        \n",
        "\n",
        "    return (dx, dy)"
      ],
      "execution_count": null,
      "outputs": []
    },
    {
      "cell_type": "markdown",
      "metadata": {
        "id": "FOQP2sS4djwL"
      },
      "source": [
        "####1.2.2 Υπολογισμός της Μετατόπισης των Παραθύρων από τα Διανύσματα Οπτικής Ροής"
      ]
    },
    {
      "cell_type": "code",
      "metadata": {
        "id": "9FOeSOPTBASS"
      },
      "source": [
        "def displ(d_x, d_y, threshold):\n",
        "        dx = d_x.flatten()\n",
        "        dy = d_y.flatten()\n",
        "        d_sq = dx*dx + dy*dy\n",
        "        \n",
        "        condition = (d_sq >= threshold)\n",
        "        \n",
        "        displ_x, displ_y = 0,0\n",
        "        count = 0\n",
        "        \n",
        "        for i in range(len(d_sq)):\n",
        "            if condition[i]:\n",
        "                displ_x -= dx[i]\n",
        "                displ_y -= dy[i]\n",
        "                count += 1\n",
        "        if count==0:\n",
        "            return (0,0)\n",
        "#         print(\"count = \", count,\" x + \",displ_x/count,\" y + \", displ_y/count)\n",
        "        return displ_x/count, displ_y/count"
      ],
      "execution_count": null,
      "outputs": []
    },
    {
      "cell_type": "code",
      "metadata": {
        "id": "mDjkdZ-IBKCh"
      },
      "source": [
        "start_img = cv2.cvtColor(cv2.imread(\"1.png\"), cv2.COLOR_BGR2GRAY).astype(np.float64)/255\n",
        "next_img = cv2.cvtColor(cv2.imread(\"2.png\"), cv2.COLOR_BGR2GRAY).astype(np.float64)/255\n",
        "\n",
        "#right hand\n",
        "x, y, width, height = 47, 243, 71, 66\n",
        "#left hand\n",
        "# x, y, width, height = 162, 264, 83, 48\n",
        "# # face\n",
        "#x, y, width, height = 138, 88, 73, 123\n",
        "\n",
        "\n",
        "rho = 3\n",
        "epsilon = 0.01\n",
        "\n",
        "(d_x, d_y) = Lucas_Kanade(start_img[y:y+height,x:x+width],next_img[y:y+height,x:x+width],rho,epsilon,np.zeros(start_img[y:y+height,x:x+width].shape),np.zeros(start_img[y:y+height,x:x+width].shape))\n",
        "fig, ax = plt.subplots()\n",
        "d_x_r=cv2.resize(d_x, None, fx=0.3, fy=0.3)\n",
        "d_y_r=cv2.resize(d_y, None, fx=0.3, fy=0.3)\n",
        "ax.quiver(-d_x_r,-d_y_r,angles='xy')\n",
        "plt.title('right_hand (img1,img2)') #ebala titlo edv\n",
        "plt.gca().set_aspect('equal') \n",
        "plt.gca().invert_yaxis()\n",
        "# plt.savefig('plot.png', dpi=300)\n",
        "displ_x, displ_y = displ(d_x, d_y, 1)\n"
      ],
      "execution_count": null,
      "outputs": []
    },
    {
      "cell_type": "code",
      "metadata": {
        "id": "9cJSmTzSmE4Z"
      },
      "source": [
        "Energy = np.zeros(d_x.shape)\n",
        "for x in range(d_x.shape[0]):\n",
        "    for y in range(d_y.shape[1]):\n",
        "        Energy[x,y] = d_x[x,y]**2 + d_y[x,y]**2\n",
        "plt.title('right_hand_energy (img1,img2)')\n",
        "plt.imshow(Energy,\"gray\")"
      ],
      "execution_count": null,
      "outputs": []
    },
    {
      "cell_type": "code",
      "metadata": {
        "id": "6ex07OKDHovY"
      },
      "source": [
        "start_img = cv2.cvtColor(cv2.imread(\"1.png\"), cv2.COLOR_BGR2GRAY).astype(np.float64)/255\n",
        "next_img = cv2.cvtColor(cv2.imread(\"2.png\"), cv2.COLOR_BGR2GRAY).astype(np.float64)/255\n",
        "\n",
        "#right hand\n",
        "#x, y, width, height = 47, 243, 71, 66\n",
        "#left hand\n",
        "x, y, width, height = 162, 264, 83, 48\n",
        "# # face\n",
        "#x, y, width, height = 138, 88, 73, 123\n",
        "\n",
        "\n",
        "rho = 3\n",
        "epsilon = 0.01\n",
        "\n",
        "(d_x, d_y) = Lucas_Kanade(start_img[y:y+height,x:x+width],next_img[y:y+height,x:x+width],rho,epsilon,np.zeros(start_img[y:y+height,x:x+width].shape),np.zeros(start_img[y:y+height,x:x+width].shape))\n",
        "\n",
        "fig, ax = plt.subplots()\n",
        "d_x_r=cv2.resize(d_x, None, fx=0.3, fy=0.3)\n",
        "d_y_r=cv2.resize(d_y, None, fx=0.3, fy=0.3)\n",
        "ax.quiver(-d_x_r,-d_y_r,angles='xy')\n",
        "plt.title('left_hand (img1,img2)')\n",
        "plt.gca().set_aspect('equal') \n",
        "plt.gca().invert_yaxis()\n",
        "# plt.savefig('plot.png', dpi=300)\n",
        "displ_x, displ_y = displ(d_x, d_y, 1)\n"
      ],
      "execution_count": null,
      "outputs": []
    },
    {
      "cell_type": "code",
      "metadata": {
        "id": "9_G17xuNmJU7"
      },
      "source": [
        "Energy = np.zeros(d_x.shape)\n",
        "for x in range(d_x.shape[0]):\n",
        "    for y in range(d_y.shape[1]):\n",
        "        Energy[x,y] = d_x[x,y]**2 + d_y[x,y]**2\n",
        "plt.title('left_hand_energy (img1,img2)')\n",
        "plt.imshow(Energy,\"gray\")"
      ],
      "execution_count": null,
      "outputs": []
    },
    {
      "cell_type": "code",
      "metadata": {
        "id": "2ycUVDiOHp57"
      },
      "source": [
        "start_img = cv2.cvtColor(cv2.imread(\"1.png\"), cv2.COLOR_BGR2GRAY).astype(np.float64)/255\n",
        "next_img = cv2.cvtColor(cv2.imread(\"2.png\"), cv2.COLOR_BGR2GRAY).astype(np.float64)/255\n",
        "\n",
        "#right hand\n",
        "#x, y, width, height = 47, 243, 71, 66\n",
        "#left hand\n",
        "# x, y, width, height = 162, 264, 83, 48\n",
        "# # face\n",
        "x, y, width, height = 138, 88, 73, 123\n",
        "\n",
        "\n",
        "rho = 3\n",
        "epsilon = 0.01\n",
        "\n",
        "(d_x, d_y) = Lucas_Kanade(start_img[y:y+height,x:x+width],next_img[y:y+height,x:x+width],rho,epsilon,np.zeros(start_img[y:y+height,x:x+width].shape),np.zeros(start_img[y:y+height,x:x+width].shape))\n",
        "\n",
        "fig, ax = plt.subplots()\n",
        "d_x_r=cv2.resize(d_x, None, fx=0.3, fy=0.3)\n",
        "d_y_r=cv2.resize(d_y, None, fx=0.3, fy=0.3)\n",
        "ax.quiver(-d_x_r,-d_y_r,angles='xy')\n",
        "plt.title('face (img1,img2)') #ebala titlo edv\n",
        "plt.gca().set_aspect('equal') \n",
        "plt.gca().invert_yaxis()\n",
        "# plt.savefig('plot.png', dpi=300)\n",
        "displ_x, displ_y = displ(d_x, d_y, 1)\n"
      ],
      "execution_count": null,
      "outputs": []
    },
    {
      "cell_type": "code",
      "metadata": {
        "id": "UynQiEfimMZw"
      },
      "source": [
        "Energy = np.zeros(d_x.shape)\n",
        "for x in range(d_x.shape[0]):\n",
        "    for y in range(d_y.shape[1]):\n",
        "        Energy[x,y] = d_x[x,y]**2 + d_y[x,y]**2\n",
        "plt.title('face_energy (img1,img2)')\n",
        "plt.imshow(Energy,\"gray\")"
      ],
      "execution_count": null,
      "outputs": []
    },
    {
      "cell_type": "markdown",
      "metadata": {
        "id": "wOZdcVbt_5Iu"
      },
      "source": [
        "####1.2.3 Πολυ-Κλιμακωτός Υπολογισμός Οπτικής Ροής"
      ]
    },
    {
      "cell_type": "code",
      "metadata": {
        "id": "mlXAXmjYl8DB"
      },
      "source": [
        "########################### Tracking ###########################\n",
        "#right hand\n",
        "x1, y1, width1, height1 = 47, 243, 71, 66\n",
        "#left hand\n",
        "x2,y2,width2,height2 = 162, 264, 83, 48\n",
        "# face\n",
        "x3, y3, width3, height3 = 137, 88, 73, 123 \n",
        "\n",
        "rho = 3\n",
        "epsilon = 0.01\n",
        "\n",
        "displ_x1 = 0\n",
        "displ_y1 = 0\n",
        "displ_x2 = 0\n",
        "displ_y2 = 0\n",
        "displ_x3 = 0\n",
        "displ_y3 = 0\n",
        "\n",
        "fig = plt.figure()\n",
        "ims = []\n",
        "\n",
        "for i in range(2,67):\n",
        "    x1 += int(np.round(displ_x1))\n",
        "    y1 += int(np.round(displ_y1))\n",
        "    x2 += int(np.round(displ_x2))\n",
        "    y2 += int(np.round(displ_y2))\n",
        "    x3 += int(np.round(displ_x3))\n",
        "    y3 += int(np.round(displ_y3))\n",
        "\n",
        "    \n",
        "    #for testing purposes:\n",
        "\n",
        "    start_img = cv2.cvtColor(cv2.imread(str(i-1)+\".png\"), cv2.COLOR_BGR2GRAY).astype(np.float64)/255\n",
        "    next_img = cv2.cvtColor(cv2.imread(str(i)+\".png\"), cv2.COLOR_BGR2GRAY).astype(np.float64)/255\n",
        "    (d_x1, d_y1) = Lucas_Kanade(start_img[y1:y1+height1,x1:x1+width1],next_img[y1:y1+height1,x1:x1+width1],rho,epsilon,np.zeros(start_img[y1:y1+height1,x1:x1+width1].shape),np.zeros(start_img[y1:y1+height1,x1:x1+width1].shape))\n",
        "    (d_x2, d_y2) = Lucas_Kanade(start_img[y2:y2+height2,x2:x2+width2],next_img[y2:y2+height2,x2:x2+width2],rho,epsilon,np.zeros(start_img[y2:y2+height2,x2:x2+width2].shape),np.zeros(start_img[y2:y2+height2,x2:x2+width2].shape))\n",
        "    (d_x3, d_y3) = Lucas_Kanade(start_img[y3:y3+height3,x3:x3+width3],next_img[y3:y3+height3,x3:x3+width3],rho,epsilon,np.zeros(start_img[y3:y3+height3,x3:x3+width3].shape),np.zeros(start_img[y3:y3+height3,x3:x3+width3].shape))\n",
        "    \n",
        "    displ_x1, displ_y1 = displ(d_x1, d_y1, .2)\n",
        "    displ_x2, displ_y2 = displ(d_x2, d_y2, .2)\n",
        "    displ_x3, displ_y3 = displ(d_x3, d_y3, .2)\n",
        "\n",
        "    Energy = np.zeros(d_x2.shape)\n",
        "    for x in range(d_x2.shape[0]):\n",
        "        for y in range(d_y2.shape[1]):\n",
        "            Energy[x,y] = d_x2[x,y]**2 + d_y2[x,y]**2\n",
        "    im = plt.imshow(Energy,\"gray\")\n",
        "\n",
        "    # fig, ax = plt.subplots()\n",
        "    # d_x_r=cv2.resize(d_x, None, fx=0.3, fy=0.3)\n",
        "    # d_y_r=cv2.resize(d_y, None, fx=0.3, fy=0.3)\n",
        "    # ax.quiver(-d_x_r,-d_y_r,angles='xy')\n",
        "    # plt.gca().set_aspect('equal') \n",
        "    # plt.gca().invert_yaxis()\n",
        "    # plt.show()\n",
        "#     start_img = cv2.cvtColor(cv2.imread(str(i-1)+\".png\"), cv2.COLOR_BGR2RGB).astype(np.float64)/255\n",
        "#     gifimage = displayer(start_img.copy(),x1,y1,width1, height1,3)\n",
        "#     gifimage = displayer(gifimage.copy(),x2,y2,width2, height2,2)\n",
        "#     gifimage = displayer(gifimage.copy(),x3,y3,width3, height3,1)\n",
        "#     im = plt.imshow(gifimage)\n",
        "    ims.append([im])\n",
        "    print(i)\n",
        "\n",
        "ani = animation.ArtistAnimation(fig, ims, interval=100, blit=True,repeat_delay=500)\n",
        "writer = PillowWriter(fps=10)\n",
        "ani.save(\"Energy.gif\", writer=writer)\n",
        "\n",
        "plt.show()"
      ],
      "execution_count": null,
      "outputs": []
    },
    {
      "cell_type": "code",
      "metadata": {
        "id": "51I9-Y6Ln-EN"
      },
      "source": [
        "def multiscale_lk(img1,img2,rho,epsilon,d_x0,d_y0,scale):\n",
        "    for i in range(scale):\n",
        "        img1 = cv2.pyrDown(img1)\n",
        "        img2 = cv2.pyrDown(img2)\n",
        "    for i in range(scale):\n",
        "        if i == 0:\n",
        "            (d_x, d_y) = Lucas_Kanade(img1,img2,rho,epsilon,np.zeros(img1.shape),np.zeros(img1.shape))        \n",
        "        else:\n",
        "            (d_x, d_y) = Lucas_Kanade(img1,img2,rho,epsilon,d_x,d_y)        \n",
        "        times = 2 # times the original size\n",
        "        width1 = int(np.ceil(d_x.shape[1] * times ))\n",
        "        height1 = int(np.ceil(d_x.shape[0] * times ))\n",
        "        dim1 = (width1, height1)\n",
        "        width2 = int(np.ceil(d_y.shape[1] * times ))\n",
        "        height2 = int(np.ceil(d_y.shape[0] * times ))\n",
        "        dim2 = (width2, height2)\n",
        "\n",
        "        d_x = 2*cv2.resize(d_x, dim1)\n",
        "        d_y = 2*cv2.resize(d_y, dim2)\n",
        "        \n",
        "        img1 = cv2.pyrUp(img1)\n",
        "        img2 = cv2.pyrUp(img2)\n",
        "    \n",
        "    return (d_x, d_y)"
      ],
      "execution_count": null,
      "outputs": []
    },
    {
      "cell_type": "code",
      "metadata": {
        "id": "m9T9-vEypsDE"
      },
      "source": [
        "########################### Tracking ###########################\n",
        "#right hand\n",
        "x1,y1, width1, height1 = 47, 243, 71, 66\n",
        "#left hand\n",
        "x2,y2,width2,height2 = 162, 264, 83, 48\n",
        "# face\n",
        "x3, y3, width3, height3 = 137, 88, 73, 123 \n",
        "\n",
        "\n",
        "\n",
        "epsilon = 0.01\n",
        "rho = 2\n",
        "threshold = 0.1\n",
        "\n",
        "displ_x1 = 0\n",
        "displ_y1 = 0\n",
        "displ_x2 = 0\n",
        "displ_y2 = 0\n",
        "displ_x3 = 0\n",
        "displ_y3 = 0\n",
        "\n",
        "fig = plt.figure()\n",
        "ims = []\n",
        "\n",
        "for i in range(2,67):\n",
        "    x1 += int(np.round(displ_x1))\n",
        "    y1 += int(np.round(displ_y1))\n",
        "    x2 += int(np.round(displ_x2))\n",
        "    y2 += int(np.round(displ_y2))\n",
        "    x3 += int(np.round(displ_x3))\n",
        "    y3 += int(np.round(displ_y3))\n",
        "\n",
        "    #for testing purposes:\n",
        "\n",
        "    start_img = cv2.cvtColor(cv2.imread(str(i-1)+\".png\"), cv2.COLOR_BGR2GRAY).astype(np.float64)/255\n",
        "    next_img = cv2.cvtColor(cv2.imread(str(i)+\".png\"), cv2.COLOR_BGR2GRAY).astype(np.float64)/255\n",
        "    (d_x1, d_y1) = multiscale_lk(start_img[y1:y1+height1,x1:x1+width1],next_img[y1:y1+height1,x1:x1+width1],rho,epsilon,np.zeros(start_img[y1:y1+height1,x1:x1+width1].shape),np.zeros(start_img[y1:y1+height1,x1:x1+width1].shape),3)\n",
        "    (d_x2, d_y2) = multiscale_lk(start_img[y2:y2+height2,x2:x2+width2],next_img[y2:y2+height2,x2:x2+width2],rho,epsilon,np.zeros(start_img[y2:y2+height2,x2:x2+width2].shape),np.zeros(start_img[y2:y2+height2,x2:x2+width2].shape),3)\n",
        "    (d_x3, d_y3) = multiscale_lk(start_img[y3:y3+height3,x3:x3+width3],next_img[y3:y3+height3,x3:x3+width3],rho,epsilon,np.zeros(start_img[y3:y3+height3,x3:x3+width3].shape),np.zeros(start_img[y3:y3+height3,x3:x3+width3].shape),3)\n",
        "    \n",
        "    displ_x1, displ_y1 = displ(d_x1, d_y1, threshold)\n",
        "    displ_x2, displ_y2 = displ(d_x2, d_y2, threshold)\n",
        "    displ_x3, displ_y3 = displ(d_x3, d_y3, threshold)\n",
        "\n",
        "#     start_img = cv2.cvtColor(cv2.imread(str(i-1)+\".png\"), cv2.COLOR_BGR2RGB).astype(np.float64)/255\n",
        "#     gifimage = displayer(start_img.copy(),x1,y1,width1, height1,3)\n",
        "#     gifimage = displayer(gifimage.copy(),x2,y2,width2, height2,2)\n",
        "#     gifimage = displayer(gifimage.copy(),x3,y3,width3, height3,1)\n",
        "#     im = plt.imshow(gifimage)\n",
        "    ims.append([im])\n",
        "    print(\"Image: \",i)\n",
        "\n",
        "    ani = animation.ArtistAnimation(fig, ims, interval=100, blit=True,repeat_delay=500)\n",
        "    writer = PillowWriter(fps=20)\n",
        "    ani.save(\"Energy.gif\", writer=writer)\n",
        "\n",
        "    plt.show()"
      ],
      "execution_count": null,
      "outputs": []
    },
    {
      "cell_type": "markdown",
      "metadata": {
        "id": "8NAmAj1yAJ6L"
      },
      "source": [
        "##Μέρος 2: Εντοπισμός Χωρο-χρονικών Σημείων Ενδιαφέροντος και Εξαγωγή Χαρακτηριστικών σε Βίντεο Ανθρωπίνων Δράσεων"
      ]
    },
    {
      "cell_type": "markdown",
      "metadata": {
        "id": "HVJYL1OnARcG"
      },
      "source": [
        "###2.1 Χωρο-χρονικά Σημεία Ενδιαφέροντος"
      ]
    },
    {
      "cell_type": "markdown",
      "metadata": {
        "id": "A_cuyzacAUHX"
      },
      "source": [
        "####2.1.1"
      ]
    },
    {
      "cell_type": "code",
      "metadata": {
        "id": "zTAj3WfUtqf-"
      },
      "source": [
        "def Harris_detector(vid, s, st, k, threshold, sphere):\n",
        "    ix, iy, it = np.gradient(vid/255.0)\n",
        "    \n",
        "    ns = (ceil(3*s))*2 + 1\n",
        "    nt = (ceil(3*st))*2 + 1\n",
        "    \n",
        "    Gs = cv2.getGaussianKernel(ns, s) @ cv2.getGaussianKernel(ns, s).T\n",
        "    Gt = cv2.getGaussianKernel(nt, st)\n",
        "    \n",
        "    \"\"\"\n",
        "                                     [L_x^2, L_xy  , L_xt ] \n",
        "    M = g(x,y,t;sσ, sτ) (syneliksi)  [L_yx , L_y ^2, L_yt ]\n",
        "                                     [L_tx , L_ty  , L_t^2]\n",
        "    \"\"\"\n",
        "    \n",
        "    Lxx = cv2.filter2D(cv2.filter2D(ix*ix, -1, Gs), -1, Gt)\n",
        "    Lyy = cv2.filter2D(cv2.filter2D(iy*iy, -1, Gs), -1, Gt)\n",
        "    Ltt = cv2.filter2D(cv2.filter2D(it*it, -1, Gs), -1, Gt)\n",
        "    Lxy = cv2.filter2D(cv2.filter2D(ix*iy, -1, Gs), -1, Gt)\n",
        "    Lxt = cv2.filter2D(cv2.filter2D(ix*it, -1, Gs), -1, Gt)\n",
        "    Lyt = cv2.filter2D(cv2.filter2D(iy*it, -1, Gs), -1, Gt)\n",
        "\n",
        "    M_trace = Lxx + Lyy + Ltt\n",
        "    \n",
        "    det = Lxx*Lyy*Ltt + 2*Lxy*Lxt*Lyt - Lxx*Lyt**2 - Lyy*Lxt**2 - Ltt*Lxy**2\n",
        "    \n",
        "    R = abs(det - k*M_trace**3)\n",
        "    \n",
        "    R_max = R.max()\n",
        "    B_sq = disk_strel(ns)\n",
        "    Cond1 = (R == cv2.dilate(R,B_sq))\n",
        "    Cond2 = (R > threshold*R_max)\n",
        "    cond = Cond1&Cond2\n",
        "    result = np.where(cond == True)\n",
        "    listOfCoordinates= list(zip(result[0], result[1], result[2]))\n",
        "    arr = []\n",
        "#     fig = plt.figure()\n",
        "#     ims = []\n",
        "#     for i in range(vid.shape[2]):\n",
        "#         im = plt.imshow(R[:,:,i],\"gray_r\")\n",
        "#         ims.append([im])\n",
        "#     ani = animation.ArtistAnimation(fig, ims, interval=100, blit=True,repeat_delay=500)\n",
        "#     writer = PillowWriter(fps=20)\n",
        "#     ani.save(\"Harris.gif\", writer=writer)\n",
        "    for coordinate in listOfCoordinates:\n",
        "        arr.append([coordinate[1], coordinate[0],coordinate[2], 3])\n",
        "    return np.array(arr)"
      ],
      "execution_count": null,
      "outputs": []
    },
    {
      "cell_type": "code",
      "metadata": {
        "id": "Kkv3xPRvvMDZ"
      },
      "source": [
        "#path argument must be in form 'folder/.../subfolder/'\n",
        "def display_video(video, extra_points, path):\n",
        "    utils.show_detection(video, extra_points, save_path = path)\n",
        "\n",
        "    num_frames = video.shape[2]\n",
        "\n",
        "    # Define the codec and create VideoWriter object\n",
        "    fourcc = cv2.VideoWriter_fourcc('m', 'p', '4', 'v')\n",
        "    org_img = cv2.imread(path + 'frame0.png')\n",
        "    out = cv2.VideoWriter(path+'video.mp4', fourcc, 12.0, (org_img.shape[1], org_img.shape[0]))\n",
        "\n",
        "\n",
        "    for i in range(1, num_frames):\n",
        "        org_img = cv2.imread(path+'frame' + str(i)+'.png')\n",
        "        out.write(org_img)\n",
        "\n",
        "    out.release()\n",
        "    cv2.destroyAllWindows() \n",
        "    print(\"Created the video\")\n",
        "\n",
        "    return"
      ],
      "execution_count": null,
      "outputs": []
    },
    {
      "cell_type": "markdown",
      "metadata": {
        "id": "U9p0mJkhtsa4"
      },
      "source": [
        "####2.1.2"
      ]
    },
    {
      "cell_type": "code",
      "metadata": {
        "id": "CGq5z4dIvHjd"
      },
      "source": [
        "from numpy import unravel_index\n",
        "\n",
        "def oddGabor(taf, omega,t):\n",
        "    mycos = np.cos(2*np.pi*t*omega)\n",
        "    myexp = np.exp(-t**2 / (2 * taf**2))\n",
        "    return  mycos*myexp/sum(mycos*myexp)\n",
        "\n",
        "def evGabor(taf, omega,t):\n",
        "    mysin = np.sin(2*np.pi*t*omega)\n",
        "    myexp = np.exp(-t**2 / (2 * taf**2))\n",
        "    return  mysin*myexp/sum(mysin*myexp)\n",
        "         \n",
        "\n",
        "def Gabor(myvideo,taf,sigma):\n",
        "    imgev = np.zeros(myvideo.shape)\n",
        "    imgod = np.zeros(myvideo.shape)\n",
        "    omega = 4/taf\n",
        "    for i in range(myvideo.shape[2]):\n",
        "        t = np.linspace(start = -2*taf, stop = 2*taf, num = int(np.round(4*taf+1)))\n",
        "        hod = oddGabor(taf,omega,t)\n",
        "        hev = evGabor(taf,omega,t)\n",
        "        Img = myvideo[:,:,i]\n",
        "        imgev[:,:,i] = Gauss(Img,sigma)\n",
        "        imgod[:,:,i] = Gauss(Img,sigma)\n",
        "    H = np.zeros(myvideo.shape)    \n",
        "    for x in range(myvideo.shape[0]):\n",
        "        for y in range(myvideo.shape[1]):\n",
        "            H[x,y] = (np.convolve(imgev[x,y],hev,mode = 'same')  **2 + np.convolve(imgod[x,y],hod,mode = 'same') ** 2)\n",
        "#     fig = plt.figure()\n",
        "#     ims = []\n",
        "#     for i in range(myvideo.shape[2]):\n",
        "#         im = plt.imshow(H[:,:,i],\"gray_r\")\n",
        "#         ims.append([im])\n",
        "#     ani = animation.ArtistAnimation(fig, ims, interval=100, blit=True,repeat_delay=500)\n",
        "#     writer = PillowWriter(fps=20)\n",
        "#     ani.save(\"Harris.gif\", writer=writer)\n",
        "    \n",
        "    some = []\n",
        "    for i in range(myvideo.shape[2]):\n",
        "        value = 2\n",
        "        x1,y1 = unravel_index(H[:,:,i].argmax(), H[:,:,i].shape)\n",
        "        some.append([y1,x1,i,3])\n",
        "        x2 = x1\n",
        "        y2 = y1\n",
        "        while(mydist(x1,y1,x2,y2)):\n",
        "    #         print(mydist(x1,y1,x2,y2),x1,y1,x2,y2)\n",
        "            second = np.where(H[:,:,i] == np.partition(H[:,:,i].flatten(), -value)[-value])\n",
        "            x2,y2 = (second[0][0],second[1][0])\n",
        "            value += 1\n",
        "        some.append([y2,x2,i,3])\n",
        "        x3 = x1\n",
        "        y3 = y1\n",
        "        while(mydist(x1,y1,x3,y3) or mydist(x2,y2,x3,y3)):\n",
        "            a = np.where(H[:,:,i] == np.partition(H[:,:,i].flatten(), -value)[-value])\n",
        "            x3,y3 = (a[0][0],a[1][0])\n",
        "            value += 1\n",
        "        some.append([y3,x3,i,3])\n",
        "        x4 = x1\n",
        "        y4 = y1\n",
        "        while(mydist(x1,y1,x4,y4) or mydist(x2,y2,x4,y4) and mydist(x3,y3,x4,y4)):\n",
        "            b = np.where(H[:,:,i] == np.partition(H[:,:,i].flatten(), -value)[-value])\n",
        "            x4,y4 = (b[0][0],b[1][0])\n",
        "            value += 1\n",
        "        some.append([y4,x4,i,3])\n",
        "    return some\n",
        "\n",
        "def mydist(x1,y1,x2,y2):\n",
        "    return (x1-x2)** 2 + (y1-y2) ** 2 <= 16"
      ],
      "execution_count": null,
      "outputs": []
    },
    {
      "cell_type": "markdown",
      "metadata": {
        "id": "PdW_81bpts9e"
      },
      "source": [
        "####2.1.3"
      ]
    },
    {
      "cell_type": "code",
      "metadata": {
        "id": "TexJ0ymtvYGC"
      },
      "source": [
        "video = utils.read_video(\"Videos/person04_walking_d1_uncomp.avi\", 100, 0)\n",
        "arr = Harris_detector(video, 2,4,0.005,0.0005,2)\n",
        "display_video(video, arr, \"harris/\")"
      ],
      "execution_count": null,
      "outputs": []
    },
    {
      "cell_type": "code",
      "metadata": {
        "id": "9VGxZpQWxBq0"
      },
      "source": [
        "nframes = 200\n",
        "myvideo = utils.read_video(\"Videos/person06_running_d2_uncomp.avi\",nframes,0)\n",
        "arr = Gabor(myvideo, 1.5, 4)\n",
        "display_video(myvideo,arr,path = \"gabor/\")"
      ],
      "execution_count": null,
      "outputs": []
    },
    {
      "cell_type": "markdown",
      "metadata": {
        "id": "zTQT1Bd2Aw8Q"
      },
      "source": [
        "###2.2 Χωρο-χρονικοί Ιστογραφικοί Περιγραφητές"
      ]
    },
    {
      "cell_type": "code",
      "metadata": {
        "id": "4pH_Ax5Ut7Yb"
      },
      "source": [
        "def Calculate_Descriptors(video, points_of_interest, HOG, nbins, grid_size):\n",
        "    #print(\"Calculating Descriptors...\")\n",
        "    if HOG:\n",
        "        Gx, Gy, Gt = np.gradient(video)\n",
        "    else:\n",
        "        dx, dy = [0]*(video.shape[2]-1),[0]*(video.shape[2]-1)\n",
        "        for i in range(video.shape[2]-1):\n",
        "            dx[i], dy[i] = multiscale_lk(video[:,:, i],\n",
        "                                         video[:,:, i+1],\n",
        "                                         rho,epsilon,\n",
        "                                         np.zeros(video[:,:, i].shape),\n",
        "                                         np.zeros(video[:,:, i].shape),3)\n",
        "    \n",
        "    desc_window_size = int(grid_size / 2)\n",
        "    descriptors = []\n",
        "    for point in points_of_interest:\n",
        "        x,y,t,scale = point\n",
        "        if (t == video.shape[2] - 1):\n",
        "            continue\n",
        "        \n",
        "        \n",
        "        if x-desc_window_size < 0:\n",
        "            x_down_limit = 0\n",
        "        else:\n",
        "            x_down_limit  = x-desc_window_size\n",
        "        \n",
        "        \n",
        "        if x + desc_window_size >= video.shape[1]:\n",
        "            x_up_limit = video.shape[1] - 1\n",
        "        else:\n",
        "            x_up_limit = x + desc_window_size\n",
        "        \n",
        "        \n",
        "        \n",
        "        if y-desc_window_size < 0:\n",
        "            y_down_limit = 0\n",
        "        else:\n",
        "            y_down_limit = y-desc_window_size\n",
        "        \n",
        "        \n",
        "        if y + desc_window_size >= video.shape[0]:\n",
        "            y_up_limit = video.shape[0] - 1\n",
        "        else:\n",
        "            y_up_limit = y + desc_window_size\n",
        "        \n",
        "        x_down_limit = int(round(x_down_limit))\n",
        "        x_up_limit = int(round(x_up_limit))\n",
        "        y_down_limit = int(round(y_down_limit))\n",
        "        y_up_limit = int(round(y_up_limit))\n",
        "        t = int(round(t))\n",
        "        \n",
        "        if HOG:\n",
        "            gx = Gx[y_down_limit:y_up_limit, x_down_limit:x_up_limit, t]\n",
        "            gy = Gy[y_down_limit:y_up_limit, x_down_limit:x_up_limit, t]\n",
        "        else:\n",
        "            gx = dx[t][y_down_limit:y_up_limit, x_down_limit:x_up_limit]\n",
        "            gy = dy[t][y_down_limit:y_up_limit, x_down_limit:x_up_limit]\n",
        "        descriptor = utils.orientation_histogram(gx, gy, nbins, np.array([grid_size,grid_size]))\n",
        "        if not all(descriptor == 0):\n",
        "            descriptors.append(descriptor)\n",
        "        \n",
        "        \n",
        "    return descriptors"
      ],
      "execution_count": null,
      "outputs": []
    },
    {
      "cell_type": "markdown",
      "metadata": {
        "id": "Pl4vFxkxFHGP"
      },
      "source": [
        "###2.3: Κατασκευή Bag of Visual Words και χρήση Support Vector Machines για την ταξινόμηση δράσεων"
      ]
    },
    {
      "cell_type": "markdown",
      "metadata": {
        "id": "1Hw6JyiRFSoC"
      },
      "source": [
        "####2.3.1"
      ]
    },
    {
      "cell_type": "code",
      "metadata": {
        "id": "4vfe6sIZz8Hs"
      },
      "source": [
        "def split_train_test(path, testing_size=0.2):\n",
        "    video_list = []\n",
        "    video_names = [f for f in listdir(path) if isfile(join(path, f))]\n",
        "    for name in video_names:\n",
        "        video_list.append([name, utils.read_video(path+name, 300, 0)])\n",
        "    train, test = train_test_split(video_list, test_size=testing_size) \n",
        "    return (train, test)"
      ],
      "execution_count": null,
      "outputs": []
    },
    {
      "cell_type": "code",
      "metadata": {
        "id": "3ebPb524z_Bn"
      },
      "source": [
        "train_set, test_set = split_train_test(\"Videos/\")\n",
        "print(len(train_set))\n",
        "print(len(test_set))"
      ],
      "execution_count": null,
      "outputs": []
    },
    {
      "cell_type": "code",
      "metadata": {
        "id": "MtMrG9rE1fSi"
      },
      "source": [
        "#################################### Descriptors using Harris detector ####################################\n",
        "\n",
        "harris_hog_desc_train = []\n",
        "harris_hog_desc_test = []\n",
        "\n",
        "harris_hof_desc_train = []\n",
        "harris_hof_desc_test = []\n",
        "\n",
        "\n",
        "for video in train_set:\n",
        "    arr = Harris_detector(video[1], 2,0.7,0.005,0.0005,2)\n",
        "    harris_hog_desc_train.append(Calculate_Descriptors(video[1], arr, True,8, 4*2))\n",
        "    harris_hof_desc_train.append(Calculate_Descriptors(video[1], arr, False,8, 4*2))\n",
        "print(\"Done training set!\")\n",
        "for video in test_set:\n",
        "    arr = Harris_detector(video[1], 2,0.7,0.005,0.0005,2)\n",
        "    harris_hog_desc_test.append(Calculate_Descriptors(video[1], arr, True, 8, 4*2))\n",
        "    harris_hof_desc_test.append(Calculate_Descriptors(video[1], arr, False, 8, 4*2))\n",
        "print(\"Done with the Harris Descriptors!\")\n",
        "\n",
        "######## Using the Concatenation of both ########\n",
        "harris_hog_hof_desc_train = []\n",
        "harris_hog_hof_desc_test = []\n",
        "for i in range(len(harris_hog_desc_train)):\n",
        "    harris_hog_hof_desc_train.append(harris_hog_desc_train[i] + harris_hof_desc_train[i])\n",
        "for i in range(len(harris_hog_desc_test)):\n",
        "    harris_hog_hof_desc_test.append(harris_hog_desc_test[i] + harris_hof_desc_test[i])\n",
        "print(\"Done with the Harris Descriptors!\")\n",
        "\n",
        "#################################### Descriptors using Gabor detector ####################################\n",
        "\n",
        "gabor_hog_desc_train = []\n",
        "gabor_hog_desc_test = []\n",
        "\n",
        "gabor_hof_desc_train = []\n",
        "gabor_hof_desc_test = []\n",
        "\n",
        "\n",
        "for video in train_set:\n",
        "    arr = Gabor(video[1], 1.5, 4)\n",
        "    gabor_hog_desc_train.append(Calculate_Descriptors(video[1], arr, True,8, 4*2))\n",
        "    gabor_hof_desc_train.append(Calculate_Descriptors(video[1], arr, False,8, 4*2))\n",
        "print(\"Done training set!\")\n",
        "for video in test_set:\n",
        "    arr = Gabor(video[1], 1.5, 4)\n",
        "    gabor_hog_desc_test.append(Calculate_Descriptors(video[1], arr, True, 8, 4*2))\n",
        "    gabor_hof_desc_test.append(Calculate_Descriptors(video[1], arr, False, 8, 4*2))\n",
        "print(\"Done with the Gabor Descriptors!\")\n",
        "\n",
        "######## Using the Concatenation of both ########\n",
        "gabor_hog_hof_desc_train = []\n",
        "gabor_hog_hof_desc_test = []\n",
        "\n",
        "for i in range(len(gabor_hog_desc_train)):\n",
        "    gabor_hog_hof_desc_train.append(gabor_hog_desc_train[i] + gabor_hof_desc_train[i])\n",
        "for i in range(len(gabor_hog_desc_test)):\n",
        "    gabor_hog_hof_desc_test.append(gabor_hog_desc_test[i] + gabor_hof_desc_test[i])"
      ],
      "execution_count": null,
      "outputs": []
    },
    {
      "cell_type": "markdown",
      "metadata": {
        "id": "Pxum8tJWF23C"
      },
      "source": [
        "####2.3.2"
      ]
    },
    {
      "cell_type": "code",
      "metadata": {
        "id": "gj6Xqesjz8xC"
      },
      "source": [
        "#1\n",
        "for i in range(len(harris_hog_desc_train)):\n",
        "    harris_hog_desc_train[i] = np.array(harris_hog_desc_train[i])\n",
        "harris_hog_desc_train = np.array(harris_hog_desc_train)\n",
        "for i in range(len(harris_hog_desc_test)):\n",
        "    harris_hog_desc_test[i] = np.array(harris_hog_desc_test[i])\n",
        "harris_hog_desc_test = np.array(harris_hog_desc_test)\n",
        "#2\n",
        "for i in range(len(harris_hof_desc_train)):\n",
        "    harris_hof_desc_train[i] = np.array(harris_hof_desc_train[i])\n",
        "harris_hof_desc_train = np.array(harris_hof_desc_train)\n",
        "for i in range(len(harris_hof_desc_test)):\n",
        "    harris_hof_desc_test[i] = np.array(harris_hof_desc_test[i])\n",
        "harris_hof_desc_test = np.array(harris_hof_desc_test)\n",
        "#3\n",
        "for i in range(len(harris_hog_hof_desc_train)):\n",
        "    harris_hog_hof_desc_train[i] = np.array(harris_hog_hof_desc_train[i])\n",
        "harris_hog_hof_desc_train = np.array(harris_hog_hof_desc_train)\n",
        "for i in range(len(harris_hog_hof_desc_test)):\n",
        "    harris_hog_hof_desc_test[i] = np.array(harris_hog_hof_desc_test[i])\n",
        "harris_hog_hof_desc_test = np.array(harris_hog_hof_desc_test)\n",
        "#4\n",
        "for i in range(len(gabor_hog_desc_train)):\n",
        "    gabor_hog_desc_train[i] = np.array(gabor_hog_desc_train[i])\n",
        "gabor_hog_desc_train = np.array(gabor_hog_desc_train)\n",
        "for i in range(len(gabor_hog_desc_test)):\n",
        "    gabor_hog_desc_test[i] = np.array(gabor_hog_desc_test[i])\n",
        "gabor_hog_desc_test = np.array(gabor_hog_desc_test)\n",
        "#5\n",
        "for i in range(len(gabor_hof_desc_train)):\n",
        "    gabor_hof_desc_train[i] = np.array(gabor_hof_desc_train[i])\n",
        "gabor_hof_desc_train = np.array(gabor_hof_desc_train)\n",
        "for i in range(len(gabor_hof_desc_test)):\n",
        "    gabor_hof_desc_test[i] = np.array(gabor_hof_desc_test[i])\n",
        "gabor_hof_desc_test = np.array(gabor_hof_desc_test)\n",
        "#6\n",
        "for i in range(len(gabor_hog_hof_desc_train)):\n",
        "    gabor_hog_hof_desc_train[i] = np.array(gabor_hog_hof_desc_train[i])\n",
        "gabor_hog_hof_desc_train = np.array(gabor_hog_hof_desc_train)\n",
        "for i in range(len(gabor_hog_hof_desc_test)):\n",
        "    gabor_hog_hof_desc_test[i] = np.array(gabor_hog_hof_desc_test[i])\n",
        "gabor_hog_hof_desc_test = np.array(gabor_hog_hof_desc_test)"
      ],
      "execution_count": null,
      "outputs": []
    },
    {
      "cell_type": "code",
      "metadata": {
        "id": "Nw0xFSf4F719"
      },
      "source": [
        "bow_train_Gabor_HOG, bow_test_Gabor_HOG = utils.bag_of_words(gabor_hog_desc_train, gabor_hog_desc_test, 48)\n",
        "bow_train_Gabor_HOF, bow_test_Gabor_HOF = utils.bag_of_words(gabor_hof_desc_train, gabor_hof_desc_test, 48)\n",
        "bow_train_Gabor_HOG_HOF, bow_test_Gabor_HOG_HOF = utils.bag_of_words(gabor_hog_hof_desc_train, gabor_hog_hof_desc_test, 48)"
      ],
      "execution_count": null,
      "outputs": []
    },
    {
      "cell_type": "markdown",
      "metadata": {
        "id": "iR8jfuIEz4MX"
      },
      "source": [
        "####2.3.3"
      ]
    },
    {
      "cell_type": "code",
      "metadata": {
        "id": "Uz5DyBzI178v"
      },
      "source": [
        "def make_name_right(name):\n",
        "    return name.split('_')[1]"
      ],
      "execution_count": null,
      "outputs": []
    },
    {
      "cell_type": "code",
      "metadata": {
        "id": "2lEJ52yU19mf"
      },
      "source": [
        "train_labels = []\n",
        "test_labels = []\n",
        "for video in train_set:\n",
        "    train_labels.append(make_name_right(video[0]))\n",
        "for video in test_set:\n",
        "    test_labels.append(make_name_right(video[0]))\n",
        "    \n",
        "    \n",
        "accuracy1, prediction1 = utils.svm_train_test(bow_train_Harris_HOG, train_labels, bow_test_Harris_HOG, test_labels)\n",
        "accuracy2, prediction2 = utils.svm_train_test(bow_train_Harris_HOF, train_labels, bow_test_Harris_HOF, test_labels)\n",
        "accuracy3, prediction3 = utils.svm_train_test(bow_train_Harris_HOG_HOF, train_labels, bow_test_Harris_HOG_HOF, test_labels)\n",
        "accuracy4, prediction4 = utils.svm_train_test(bow_train_Gabor_HOG, train_labels, bow_test_Gabor_HOG, test_labels)\n",
        "accuracy5, prediction5 = utils.svm_train_test(bow_train_Gabor_HOF, train_labels, bow_test_Gabor_HOF, test_labels)\n",
        "accuracy6, prediction6 = utils.svm_train_test(bow_train_Gabor_HOG_HOF, train_labels, bow_test_Gabor_HOG_HOF, test_labels)"
      ],
      "execution_count": null,
      "outputs": []
    },
    {
      "cell_type": "code",
      "metadata": {
        "id": "NLYwo3It2Amj"
      },
      "source": [
        "print(\"Harris_HOG\",accuracy1)\n",
        "print(\"Harris_HOF\",accuracy2)\n",
        "print(\"Harris_HOG_HOF\",accuracy3)\n",
        "print(\"Gabor_HOG\",accuracy4)\n",
        "print(\"Gabor_HOF\",accuracy5)\n",
        "print(\"Gabor_HOG_HOF\",accuracy6)"
      ],
      "execution_count": null,
      "outputs": []
    }
  ]
}